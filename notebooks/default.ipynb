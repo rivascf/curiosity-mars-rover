{
 "cells": [
  {
   "cell_type": "markdown",
   "metadata": {},
   "source": [
    "<img src=\"images/The-Construct-logo.png\" width=\"300\" />"
   ]
  },
  {
   "cell_type": "markdown",
   "metadata": {},
   "source": [
    "# A Gazebo-ROS simulation of Curiosity Mars Rover v1.0"
   ]
  },
  {
   "cell_type": "markdown",
   "metadata": {},
   "source": [
    "In this ROSject, you will be able to launch and play with the **Curiosity Mars Rover** Gazebo-ROS model built by Miguel A. Rodriguez from <a href=\"www.theconstructsim.com\">The Construct</a> team."
   ]
  },
  {
   "cell_type": "markdown",
   "metadata": {},
   "source": [
    "![drop-down menu](images/rover.png)"
   ]
  },
  {
   "cell_type": "markdown",
   "metadata": {},
   "source": [
    "This code is released under GPL license. Do whatever you want with it. You can use it, you can sell it, you can integrate it in your commercial product, you can delete it! \n",
    "\n",
    "You don't have to tell us anything, you don't have to give us anything. We would appreciate if you can mention us, but it is not mandatory. WE SUPPORT (REAL) OPEN SOURCE!"
   ]
  },
  {
   "cell_type": "markdown",
   "metadata": {},
   "source": [
    "## Launch the simulation"
   ]
  },
  {
   "cell_type": "markdown",
   "metadata": {},
   "source": [
    "Go to the bottom line of icons and click on the *Terminal* icon."
   ]
  },
  {
   "cell_type": "markdown",
   "metadata": {},
   "source": [
    "![drop-down menu](images/term.png)"
   ]
  },
  {
   "cell_type": "markdown",
   "metadata": {},
   "source": [
    "A terminal will open. Type in the terminal the following command:"
   ]
  },
  {
   "cell_type": "code",
   "execution_count": null,
   "metadata": {},
   "outputs": [],
   "source": [
    "roslaunch curiosity_mars_rover_description main_simple.launch"
   ]
  },
  {
   "cell_type": "markdown",
   "metadata": {},
   "source": [
    "In order to get the Gazebo window shown on your screen, go to the bottom line of icons and press on the gazebo icon."
   ]
  },
  {
   "cell_type": "markdown",
   "metadata": {},
   "source": [
    "![drop-down menu](images/gazebo.png)"
   ]
  },
  {
   "cell_type": "markdown",
   "metadata": {},
   "source": [
    "After a few seconds you should get something like in the figure:"
   ]
  },
  {
   "cell_type": "markdown",
   "metadata": {},
   "source": [
    "<img src=\"images/curiosity_simple.png\" width=\"400\" />"
   ]
  },
  {
   "cell_type": "markdown",
   "metadata": {},
   "source": [
    "If you have a <a href=\"https://rds.theconstructsim.com/settings/\">**High Performance Plan in ROSDS**</a>, you can also try to launch the **mars_curiosity_world.launch** in package **curiosity_mars_rover_description**. This second launch file is placing the robot in the real height map of mars generated with real data. Worth checking out to see how the suspension performs and have a more close to the reality experience.\n",
    "\n",
    "**NOTE**: You can still launch that full Mars demo even in not high performance plans, but you will get a very slow simulation."
   ]
  },
  {
   "cell_type": "markdown",
   "metadata": {},
   "source": [
    "![mars rover](images/mars.png)"
   ]
  },
  {
   "cell_type": "markdown",
   "metadata": {},
   "source": [
    "## Version 1.0 Features:"
   ]
  },
  {
   "cell_type": "markdown",
   "metadata": {},
   "source": [
    "In this First version of the Mars Rover for Gazebo you have the following features:\n"
   ]
  },
  {
   "cell_type": "markdown",
   "metadata": {},
   "source": [
    "### Speed control"
   ]
  },
  {
   "cell_type": "markdown",
   "metadata": {},
   "source": [
    "* Full control over the suspension and wheels. You can change the suspension configuration and move the robot through a simple **/cmd_vel** topic publish. \n",
    "\n",
    "To launch the keyboard control of the robot, open another terminal and then execute the following command to move the robot through the standard **teleop_twist_keyboard** keys:"
   ]
  },
  {
   "cell_type": "code",
   "execution_count": null,
   "metadata": {
    "collapsed": true
   },
   "outputs": [],
   "source": [
    "rosrun teleop_twist_keyboard teleop_twist_keyboard.py"
   ]
  },
  {
   "cell_type": "markdown",
   "metadata": {},
   "source": [
    "![web shell](images/shell.png)"
   ]
  },
  {
   "cell_type": "markdown",
   "metadata": {},
   "source": [
    "<img src=\"images/keys_move_turtle.png\" width=\"1000\" />"
   ]
  },
  {
   "cell_type": "markdown",
   "metadata": {},
   "source": [
    "You may need to increase the speed of the robot up to **6.0** with the **Q** key, in order to be able to move it confortably.\n",
    "\n",
    "**IMPORTANT**: remember that in order to move the robot when you press a key, **the window of shell that runs the keyboard teleop mut have the focus**. Otherwise, the teleop will not receive the key pressed and the robot will not move"
   ]
  },
  {
   "cell_type": "markdown",
   "metadata": {},
   "source": [
    "### Arm and mast control"
   ]
  },
  {
   "cell_type": "markdown",
   "metadata": {},
   "source": [
    "* Services for **deploying the ARM and MAST**. These basic services allow you to deploy the **mast** and **arm** confortably. This is specially important for the **mast** because it's here where a basic camera has been placed where the **CHEMCAM** would be. Here are the command you can send to open and close the arm or the mast:"
   ]
  },
  {
   "cell_type": "code",
   "execution_count": null,
   "metadata": {
    "collapsed": true
   },
   "outputs": [],
   "source": [
    "$ rosservice call /curiosity_mars_rover/arm_service \"model_name: 'open'\"\n",
    "$ rosservice call /curiosity_mars_rover/arm_service \"model_name: 'close'\"\n",
    "$ rosservice call /curiosity_mars_rover/mast_service \"model_name: 'open'\"\n",
    "$ rosservice call /curiosity_mars_rover/mast_service \"model_name: 'close'\""
   ]
  },
  {
   "cell_type": "markdown",
   "metadata": {},
   "source": [
    "![arms](images/curiosity.gif)"
   ]
  },
  {
   "cell_type": "markdown",
   "metadata": {},
   "source": [
    "* You can also send commands to the individual joints to make your own custom poses, even try to control the arm using MoveIt!"
   ]
  },
  {
   "cell_type": "markdown",
   "metadata": {},
   "source": [
    "### Rviz support"
   ]
  },
  {
   "cell_type": "markdown",
   "metadata": {},
   "source": [
    "* RVIZ total support: You can use Rviz to see the camera data, TF frames and the robot model based on the internal sensor data. "
   ]
  },
  {
   "cell_type": "markdown",
   "metadata": {},
   "source": [
    "The Rviz has been launched by default when you launched the simulation. In order to see the *rviz* window, open the graphical tools (In **Tools-->Graphical Tools**). You should see a screen like the following"
   ]
  },
  {
   "cell_type": "markdown",
   "metadata": {},
   "source": [
    "<img src=\"images/curiosity_rviz.png\" width=\"800\" />"
   ]
  },
  {
   "cell_type": "markdown",
   "metadata": {},
   "source": [
    "We have included a default *Rviz* config file that you can open later:\n",
    "\n",
    "*/home/user/simulation_ws/src/curiosity_mars_rover_description/rviz/curiosity_mars_rover.rviz*"
   ]
  },
  {
   "cell_type": "markdown",
   "metadata": {},
   "source": [
    "In case that you close Rviz and want to launch it again, open a webshell (**Tools->Shell**) and then type:"
   ]
  },
  {
   "cell_type": "code",
   "execution_count": null,
   "metadata": {
    "collapsed": true
   },
   "outputs": [],
   "source": [
    "$ rosrun rviz rviz"
   ]
  },
  {
   "cell_type": "markdown",
   "metadata": {},
   "source": [
    "You will have the Rviz window opened in the Graphical Tools (**Tools->Graphical Tools**)"
   ]
  },
  {
   "cell_type": "markdown",
   "metadata": {},
   "source": [
    "### Odometry"
   ]
  },
  {
   "cell_type": "markdown",
   "metadata": {},
   "source": [
    "* There is also a topic called **/curiosity_mars_rover/odom** that publishes the odometry of the robot, to use it in localization."
   ]
  },
  {
   "cell_type": "markdown",
   "metadata": {},
   "source": [
    "### Camera"
   ]
  },
  {
   "cell_type": "markdown",
   "metadata": {},
   "source": [
    "* The robot has a camera on the mast. You can access it through the topic */mira/camera1/image_raw*\n",
    "* Remember to open the mast before starting to get images of the camera, if you want to get something more than the gray ceiling"
   ]
  },
  {
   "cell_type": "code",
   "execution_count": null,
   "metadata": {
    "collapsed": true
   },
   "outputs": [],
   "source": [
    "$ rosrun image_view image_view image:=/mira/camera1/image_raw"
   ]
  },
  {
   "cell_type": "markdown",
   "metadata": {},
   "source": [
    "Go to the Graphical Tools to see the *image_view* window, showing the perceived by the camera."
   ]
  },
  {
   "cell_type": "markdown",
   "metadata": {},
   "source": [
    "![simulation code](images/camera.png)"
   ]
  },
  {
   "cell_type": "markdown",
   "metadata": {},
   "source": [
    "### Source code of the simulation"
   ]
  },
  {
   "cell_type": "markdown",
   "metadata": {},
   "source": [
    "Remember that you can open and see the full code of the simulation by opening the IDE (**Tools->IDE**). The whole code of the simulation is included in the *simulation_ws/src*"
   ]
  },
  {
   "cell_type": "markdown",
   "metadata": {},
   "source": [
    "![simulation code](images/ide.png)"
   ]
  },
  {
   "cell_type": "markdown",
   "metadata": {},
   "source": [
    "You can edit, modify, copy, improve the whole code. Please let us know if you do any improvement so we can provide it to the whole community."
   ]
  },
  {
   "cell_type": "markdown",
   "metadata": {},
   "source": [
    "## Sources:"
   ]
  },
  {
   "cell_type": "markdown",
   "metadata": {},
   "source": [
    "We were able to build this rosject because other people have done a lot of previous work. We want to thank all those **giants** here:"
   ]
  },
  {
   "cell_type": "markdown",
   "metadata": {},
   "source": [
    "* We would like to thank **NASA** for publishing the 3D models publicly. It made our work much easier. Here you have some of the main sources of information that we used to create the Gazebo model, and further data about **Curiosity Mars Rover**:\n",
    "    * General Mission Info: https://mars.nasa.gov/msl/mission/rover/\n",
    "    * Wikipedia Info: https://en.wikipedia.org/wiki/Curiosity_(rover)\n",
    "    * OpenSource Rover, to make your own real rover: https://github.com/nasa-jpl/open-source-rover\n",
    "    * 3D Models of Mars from NASA: https://nasa3d.arc.nasa.gov/search/mars"
   ]
  },
  {
   "cell_type": "markdown",
   "metadata": {},
   "source": [
    "<img src=\"images/msl_insignia01.jpg\" width=\"400\" />"
   ]
  },
  {
   "cell_type": "markdown",
   "metadata": {},
   "source": [
    "* We would like to thank as always **OSRF**, **Gazebo** and **ROS** community for the invaluable job they are doing."
   ]
  },
  {
   "cell_type": "markdown",
   "metadata": {},
   "source": [
    "<img src=\"images/gazebo.png\" width=\"100\" />"
   ]
  },
  {
   "cell_type": "markdown",
   "metadata": {},
   "source": [
    "<img src=\"images/ros.png\" width=\"300\" />"
   ]
  },
  {
   "cell_type": "markdown",
   "metadata": {},
   "source": [
    "<img src=\"images/OSRF.png\" width=\"400\" />"
   ]
  },
  {
   "cell_type": "markdown",
   "metadata": {},
   "source": [
    "# Thank you and hope to have more upgrades for you soon!"
   ]
  },
  {
   "cell_type": "code",
   "execution_count": null,
   "metadata": {
    "collapsed": true
   },
   "outputs": [],
   "source": []
  }
 ],
 "metadata": {
  "kernelspec": {
   "display_name": "Python 2",
   "language": "python",
   "name": "python2"
  },
  "language_info": {
   "codemirror_mode": {
    "name": "ipython",
    "version": 2
   },
   "file_extension": ".py",
   "mimetype": "text/x-python",
   "name": "python",
   "nbconvert_exporter": "python",
   "pygments_lexer": "ipython2",
   "version": "2.7.16"
  }
 },
 "nbformat": 4,
 "nbformat_minor": 1
}
